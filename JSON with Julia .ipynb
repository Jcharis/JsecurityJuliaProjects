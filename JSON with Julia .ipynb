{
 "cells": [
  {
   "cell_type": "markdown",
   "metadata": {},
   "source": [
    "####  Using JSON in Julia (Javascript Object Notation)\n",
    "#####  Requirements\n",
    "+ Pkg.add(\"JSON\")"
   ]
  },
  {
   "cell_type": "code",
   "execution_count": 1,
   "metadata": {
    "collapsed": true
   },
   "outputs": [],
   "source": [
    "#Parsing JSON from strings to Julia Datastructure(Dictionary)"
   ]
  },
  {
   "cell_type": "code",
   "execution_count": 3,
   "metadata": {
    "collapsed": true
   },
   "outputs": [],
   "source": [
    "using JSON"
   ]
  },
  {
   "cell_type": "code",
   "execution_count": 4,
   "metadata": {},
   "outputs": [
    {
     "data": {
      "text/plain": [
       "Dict{String,Any} with 3 entries:\n",
       "  \"name\"         => Any[\"Paul\", \"Peter\", \"John\", \"James\", \"Michael\"]\n",
       "  \"day_of_birth\" => Any[\"Mon\", \"Wed\", \"Tue\", \"Thur\", \"Sat\"]\n",
       "  \"age\"          => Any[45, 67, 67, 50, 46]"
      ]
     },
     "execution_count": 4,
     "metadata": {},
     "output_type": "execute_result"
    }
   ],
   "source": [
    "juliaDict = JSON.parse(\"\"\"{\"name\":[\"Paul\",\"Peter\",\"John\",\"James\",\"Michael\"],\n",
    "\"age\":[45,67,67,50,46],\n",
    "\"day_of_birth\":[\"Mon\",\"Wed\",\"Tue\",\"Thur\",\"Sat\"]}\"\"\")"
   ]
  },
  {
   "cell_type": "code",
   "execution_count": 5,
   "metadata": {},
   "outputs": [
    {
     "data": {
      "text/plain": [
       "5-element Array{Any,1}:\n",
       " \"Paul\"   \n",
       " \"Peter\"  \n",
       " \"John\"   \n",
       " \"James\"  \n",
       " \"Michael\""
      ]
     },
     "execution_count": 5,
     "metadata": {},
     "output_type": "execute_result"
    }
   ],
   "source": [
    "#It's a dictionary hence you can use it as a Julia Dictionary(Key,Value Pair)\n",
    "juliaDict[\"name\"]"
   ]
  },
  {
   "cell_type": "code",
   "execution_count": 6,
   "metadata": {},
   "outputs": [
    {
     "data": {
      "text/plain": [
       "\"Peter\""
      ]
     },
     "execution_count": 6,
     "metadata": {},
     "output_type": "execute_result"
    }
   ],
   "source": [
    "#Selecting the Second value from the name -\"key\" \n",
    "juliaDict[\"name\"][2]"
   ]
  },
  {
   "cell_type": "code",
   "execution_count": 7,
   "metadata": {},
   "outputs": [
    {
     "data": {
      "text/plain": [
       "Base.KeyIterator for a Dict{String,Any} with 3 entries. Keys:\n",
       "  \"name\"\n",
       "  \"day_of_birth\"\n",
       "  \"age\""
      ]
     },
     "execution_count": 7,
     "metadata": {},
     "output_type": "execute_result"
    }
   ],
   "source": [
    "keys(juliaDict)"
   ]
  },
  {
   "cell_type": "code",
   "execution_count": 8,
   "metadata": {},
   "outputs": [
    {
     "data": {
      "text/plain": [
       "Base.ValueIterator for a Dict{String,Any} with 3 entries. Values:\n",
       "  Any[\"Paul\", \"Peter\", \"John\", \"James\", \"Michael\"]\n",
       "  Any[\"Mon\", \"Wed\", \"Tue\", \"Thur\", \"Sat\"]\n",
       "  Any[45, 67, 67, 50, 46]"
      ]
     },
     "execution_count": 8,
     "metadata": {},
     "output_type": "execute_result"
    }
   ],
   "source": [
    "values(juliaDict)"
   ]
  },
  {
   "cell_type": "code",
   "execution_count": 9,
   "metadata": {
    "collapsed": true
   },
   "outputs": [],
   "source": [
    "#Serializing Dictionaries into JSON "
   ]
  },
  {
   "cell_type": "code",
   "execution_count": 10,
   "metadata": {},
   "outputs": [
    {
     "data": {
      "text/plain": [
       "\"{\\\"countries\\\":[\\\"United State\\\",\\\"Ghana\\\",\\\"United Kingdom\\\",\\\"Nigeria\\\",\\\"Russia\\\"],\\\"abbr\\\":[\\\"US\\\",\\\"GH\\\",\\\"UK\\\",\\\"NG\\\",\\\"RU\\\"]}\""
      ]
     },
     "execution_count": 10,
     "metadata": {},
     "output_type": "execute_result"
    }
   ],
   "source": [
    "jD = JSON.json(Dict(\"countries\"=>[\"United State\",\"Ghana\",\"United Kingdom\",\"Nigeria\",\"Russia\"],\n",
    "\"abbr\"=>[\"US\",\"GH\",\"UK\",\"NG\",\"RU\"]))"
   ]
  },
  {
   "cell_type": "code",
   "execution_count": 12,
   "metadata": {},
   "outputs": [
    {
     "data": {
      "text/plain": [
       "String"
      ]
     },
     "execution_count": 12,
     "metadata": {},
     "output_type": "execute_result"
    }
   ],
   "source": [
    "typeof(jD)"
   ]
  },
  {
   "cell_type": "code",
   "execution_count": 13,
   "metadata": {},
   "outputs": [
    {
     "name": "stdout",
     "output_type": "stream",
     "text": [
      "\"{\\\"countries\\\":[\\\"United State\\\",\\\"Ghana\\\",\\\"United Kingdom\\\",\\\"Nigeria\\\",\\\"Russia\\\"],\\\"abbr\\\":[\\\"US\\\",\\\"GH\\\",\\\"UK\\\",\\\"NG\\\",\\\"RU\\\"]}\"\n"
     ]
    }
   ],
   "source": [
    "JSON.print(STDOUT,jD,2)"
   ]
  },
  {
   "cell_type": "code",
   "execution_count": 14,
   "metadata": {},
   "outputs": [
    {
     "data": {
      "text/plain": [
       "108"
      ]
     },
     "execution_count": 14,
     "metadata": {},
     "output_type": "execute_result"
    }
   ],
   "source": [
    "#Writng JSON to a file \n",
    "open(\"toJSON.json\",\"w\") do j\n",
    "    write(j,jD)\n",
    "end"
   ]
  },
  {
   "cell_type": "code",
   "execution_count": null,
   "metadata": {},
   "outputs": [],
   "source": []
  },
  {
   "cell_type": "code",
   "execution_count": null,
   "metadata": {
    "collapsed": true
   },
   "outputs": [],
   "source": [
    "#J-secur1ty JCharisTech"
   ]
  }
 ],
 "metadata": {
  "kernelspec": {
   "display_name": "Julia 0.6.0",
   "language": "julia",
   "name": "julia-0.6"
  },
  "language_info": {
   "file_extension": ".jl",
   "mimetype": "application/julia",
   "name": "julia",
   "version": "0.6.0"
  }
 },
 "nbformat": 4,
 "nbformat_minor": 2
}
